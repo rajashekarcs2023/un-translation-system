{
  "nbformat": 4,
  "nbformat_minor": 0,
  "metadata": {
    "colab": {
      "provenance": []
    },
    "kernelspec": {
      "name": "python3",
      "display_name": "Python 3"
    },
    "language_info": {
      "name": "python"
    }
  },
  "cells": [
    {
      "cell_type": "code",
      "execution_count": 1,
      "metadata": {
        "colab": {
          "base_uri": "https://localhost:8080/"
        },
        "id": "6ssI1jLYiVpE",
        "outputId": "14291c16-18f4-4dcb-c639-6081c35b34d3"
      },
      "outputs": [
        {
          "output_type": "stream",
          "name": "stderr",
          "text": [
            "[nltk_data] Downloading package punkt to /root/nltk_data...\n",
            "[nltk_data]   Unzipping tokenizers/punkt.zip.\n"
          ]
        },
        {
          "output_type": "stream",
          "name": "stdout",
          "text": [
            "• Introduction to climate action.\n",
            "The UN is committed to taking steps towards sustainability.\n",
            "Climate change affects us all.\n",
            "Page 2 Goals for 2030 include reducing emissions.\n",
            "Everyone must do their part.\n"
          ]
        }
      ],
      "source": [
        "import nltk\n",
        "import re\n",
        "from nltk.tokenize import sent_tokenize\n",
        "\n",
        "# Ensure you have downloaded the punkt tokenizer from nltk\n",
        "nltk.download('punkt')\n",
        "\n",
        "def parse_text_to_sentences(text):\n",
        "    \"\"\"\n",
        "    Parses a chunk of text into sentences, preparing it for translation.\n",
        "    This function handles common issues such as extra whitespace, bullet points, and page headers/footers.\n",
        "\n",
        "    Args:\n",
        "        text (str): The input text to be parsed.\n",
        "\n",
        "    Returns:\n",
        "        list: A list of cleaned sentences ready for translation.\n",
        "    \"\"\"\n",
        "    # Remove any page headers/footers that may be present (commonly seen in UN PDFs)\n",
        "    text = re.sub(r'\\n\\s*Page \\d+\\s*\\n', ' ', text)\n",
        "\n",
        "    # Remove bullet points or numbering that may interfere with sentence splitting\n",
        "    text = re.sub(r'\\n\\s*[\\u2022\\-\\*\\d]+\\s+', ' ', text)\n",
        "\n",
        "    # Replace multiple newlines or extra spaces with a single space\n",
        "    text = re.sub(r'\\s+', ' ', text)\n",
        "\n",
        "    # Use NLTK's sentence tokenizer to split text into sentences\n",
        "    sentences = sent_tokenize(text)\n",
        "\n",
        "    # Clean and strip each sentence\n",
        "    cleaned_sentences = [sentence.strip() for sentence in sentences if sentence.strip()]\n",
        "\n",
        "    return cleaned_sentences"
      ]
    },
    {
      "cell_type": "code",
      "source": [
        "# Example usage\n",
        "if __name__ == \"__main__\":\n",
        "    example_text = \"\"\"\n",
        "    Page 1\n",
        "    • Introduction to climate action.\n",
        "    The UN is committed to taking steps towards sustainability.\n",
        "    Climate change affects us all. Page 2\n",
        "    • Goals for 2030 include reducing emissions.\n",
        "    Everyone must do their part.\n",
        "    \"\"\"\n",
        "    parsed_sentences = parse_text_to_sentences(example_text)\n",
        "    for sentence in parsed_sentences:\n",
        "        print(sentence)\n"
      ],
      "metadata": {
        "colab": {
          "base_uri": "https://localhost:8080/"
        },
        "id": "_J7gKqQ4j3IV",
        "outputId": "f8e78b12-7bce-4b80-ce1a-aa27992c3019"
      },
      "execution_count": 2,
      "outputs": [
        {
          "output_type": "stream",
          "name": "stdout",
          "text": [
            "• Introduction to climate action.\n",
            "The UN is committed to taking steps towards sustainability.\n",
            "Climate change affects us all.\n",
            "Page 2 Goals for 2030 include reducing emissions.\n",
            "Everyone must do their part.\n"
          ]
        }
      ]
    },
    {
      "cell_type": "code",
      "source": [],
      "metadata": {
        "id": "RIZKeZrTlAUA"
      },
      "execution_count": null,
      "outputs": []
    }
  ]
}